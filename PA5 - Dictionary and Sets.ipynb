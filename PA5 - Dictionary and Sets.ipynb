{
 "cells": [
  {
   "cell_type": "code",
   "execution_count": 1,
   "id": "a2a8f229",
   "metadata": {},
   "outputs": [
    {
     "name": "stdout",
     "output_type": "stream",
     "text": [
      "Enter a word to translate from English to French (enter 0 to stop): \n",
      "voyage\n",
      "The French word for voyage is None\n",
      "Enter a word to translate from English to French (enter 0 to stop): \n",
      "travel\n",
      "The French word for travel is voyage\n",
      "Enter a word to translate from English to French (enter 0 to stop): \n",
      "room\n",
      "The French word for room is chambre\n",
      "Enter a word to translate from English to French (enter 0 to stop): \n",
      "0\n"
     ]
    }
   ],
   "source": [
    "FrenchDict ={'place':'stead',\n",
    "            'laugh':'rire',\n",
    "            'game':'jeu',\n",
    "            'shape':'forme',\n",
    "            'hot':'chaud',\n",
    "            'wait':'patienter',\n",
    "            'beauty':'beaute',\n",
    "            'final':'finale',\n",
    "            'fast':'rapide',\n",
    "            'travel':'voyage',\n",
    "            'war':'guerre',\n",
    "            'person':'personne',\n",
    "            'serve':'servir',\n",
    "            'road':'route',\n",
    "            'voice':'voix',\n",
    "            'rule':'regle',\n",
    "            'carry':'porter',\n",
    "            'room':'chambre',\n",
    "            'fish':'poisson',\n",
    "             'horse':'cheval'}\n",
    "\n",
    "x = FrenchDict\n",
    "\n",
    "while x!=0:\n",
    "    print(\"Enter a word to translate from English to French (enter 0 to stop): \")\n",
    "    x=input()\n",
    "    if x == \"0\":\n",
    "        break\n",
    "    else:\n",
    "        print(\"The French word for\",x,\"is\", FrenchDict.get(x))"
   ]
  },
  {
   "cell_type": "code",
   "execution_count": 24,
   "id": "8ba5a37a",
   "metadata": {},
   "outputs": [
    {
     "name": "stdout",
     "output_type": "stream",
     "text": [
      "12.777777777777779 13.333333333333334 13.88888888888889 24.444444444444446 12.777777777777779 13.88888888888889 1.1111111111111112 36.66666666666667 25.555555555555557 49.44444444444445 30.555555555555557 26.11111111111111 23.88888888888889\n",
      "34\n",
      "98\n"
     ]
    }
   ],
   "source": [
    "Temps = {'1':55,\n",
    "        '2':56,\n",
    "        '3':57,\n",
    "        '4':76,\n",
    "        '5':55,\n",
    "        '6':57,\n",
    "        '7':34,\n",
    "        '8':98,\n",
    "        '9':78,\n",
    "        '10':121,\n",
    "        '11':87,\n",
    "        '12':79,\n",
    "        '13':75}\n",
    "def celcius(x):\n",
    "    x=(x-32)*(5/9)\n",
    "    return x\n",
    "celcius(Temps['1'])\n",
    "celcius(Temps['2'])\n",
    "celcius(Temps['3'])\n",
    "celcius(Temps['4'])\n",
    "celcius(Temps['5'])\n",
    "celcius(Temps['6'])\n",
    "celcius(Temps['7'])\n",
    "celcius(Temps['8'])\n",
    "celcius(Temps['9'])\n",
    "celcius(Temps['10'])\n",
    "celcius(Temps['11'])\n",
    "celcius(Temps['12'])\n",
    "celcius(Temps['13'])\n",
    "print(celcius(Temps['1']), celcius(Temps['2']), celcius(Temps['3']), celcius(Temps['4']), celcius(Temps['5']),\n",
    "     celcius(Temps['6']), celcius(Temps['7']), celcius(Temps['8']), celcius(Temps['9']), celcius(Temps['10']),\n",
    "     celcius(Temps['11']), celcius(Temps['12']), celcius(Temps['13']))\n",
    "list1=list(Temps.values())\n",
    "print(min(list1))\n",
    "list1.sort()\n",
    "print(list1[-2])"
   ]
  },
  {
   "cell_type": "code",
   "execution_count": 16,
   "id": "75a17863",
   "metadata": {},
   "outputs": [
    {
     "name": "stdout",
     "output_type": "stream",
     "text": [
      "34\n",
      "98\n"
     ]
    }
   ],
   "source": []
  },
  {
   "cell_type": "code",
   "execution_count": 20,
   "id": "41b88d7c",
   "metadata": {},
   "outputs": [
    {
     "name": "stdout",
     "output_type": "stream",
     "text": [
      "{'e', 'a', 'b'}\n",
      "{'e', 'a', 'b'}\n",
      "{'a', 'b', 'c', 'd'}\n",
      "{'e', 'c', 'd'}\n"
     ]
    }
   ],
   "source": [
    "# The Python symmetric_difference() method returns the symmetric difference of two sets\n",
    "A = {'a', 'b', 'c', 'd'}\n",
    "B = {'c', 'd', 'e' }\n",
    "C = {}\n",
    "print(A.symmetric_difference(B))\n",
    "print(B.symmetric_difference(A))\n",
    "print(A.symmetric_difference(C))\n",
    "print(B.symmetric_difference(C))"
   ]
  },
  {
   "cell_type": "code",
   "execution_count": 22,
   "id": "caef14f6",
   "metadata": {},
   "outputs": [
    {
     "name": "stdout",
     "output_type": "stream",
     "text": [
      "Are X and Y are disjoint Sets? False\n",
      "Are X and Z are disjoint Sets? True\n"
     ]
    }
   ],
   "source": [
    "# .isdisjoint() method checks whether the two sets are disjoint sets or not. If the sets are disjoint, this method returns true else it returns false\n",
    "X = {4, 5}\n",
    "Y = {4, 5, 6}\n",
    "Z = {10, 20, 30}\n",
    "print(\"Are X and Y are disjoint Sets?\", X.isdisjoint(Y))\n",
    "print(\"Are X and Z are disjoint Sets?\", X.isdisjoint(Z))"
   ]
  },
  {
   "cell_type": "code",
   "execution_count": 23,
   "id": "d50dfdbf",
   "metadata": {},
   "outputs": [
    {
     "name": "stdout",
     "output_type": "stream",
     "text": [
      "result = None\n",
      "A = {2, 3, 4}\n",
      "B = {2, 3, 4, 5}\n"
     ]
    }
   ],
   "source": [
    "# The intersection_update() updates the set calling intersection_update() method with the intersection of sets\n",
    "A = {1, 2, 3, 4}\n",
    "B = {2, 3, 4, 5}\n",
    "result = A.intersection_update(B)\n",
    "\n",
    "print('result =', result)\n",
    "print('A =', A)\n",
    "print('B =', B)"
   ]
  },
  {
   "cell_type": "code",
   "execution_count": 25,
   "id": "47867be3",
   "metadata": {},
   "outputs": [
    {
     "name": "stdout",
     "output_type": "stream",
     "text": [
      "{'e', 'a', 'b'}\n",
      "{'e', 'a', 'b'}\n"
     ]
    }
   ],
   "source": [
    "# Symmetric difference using the ^ operator\n",
    "A = {'a', 'b', 'c', 'd'}\n",
    "B = {'c', 'd', 'e' }\n",
    "print(A ^ B)\n",
    "print(B ^ A)"
   ]
  },
  {
   "cell_type": "code",
   "execution_count": 26,
   "id": "9664bc72",
   "metadata": {},
   "outputs": [
    {
     "name": "stdout",
     "output_type": "stream",
     "text": [
      "{'is', 'end', 'the', 'Hello', 'this', 'start'}\n"
     ]
    }
   ],
   "source": [
    "# remove() removes the given element from the set\n",
    "strings = {'Hello', 'is', 'an', 'start', 'end', 'this', 'the'}\n",
    "strings.remove('an')\n",
    "print(strings)"
   ]
  },
  {
   "cell_type": "code",
   "execution_count": 27,
   "id": "bbe0ee14",
   "metadata": {},
   "outputs": [
    {
     "name": "stdout",
     "output_type": "stream",
     "text": [
      "{'is', 'end', 'the', 'Hello', 'this', 'start'}\n"
     ]
    }
   ],
   "source": [
    "# discard() also removes an element from a set\n",
    "strings = {'Hello', 'is', 'an', 'start', 'end', 'this', 'the'}\n",
    "strings.discard('an')\n",
    "print(strings)"
   ]
  },
  {
   "cell_type": "code",
   "execution_count": 28,
   "id": "01b5186c",
   "metadata": {},
   "outputs": [
    {
     "name": "stdout",
     "output_type": "stream",
     "text": [
      "{'end', 'the', 'Hello', 'an', 'this', 'start'}\n"
     ]
    }
   ],
   "source": [
    "# pop() removes an element from a set and if a caertain element is not chosen, then pop() will remove a random element in the set\n",
    "strings = {'Hello', 'is', 'an', 'start', 'end', 'this', 'the'}\n",
    "strings.pop()\n",
    "print(strings)"
   ]
  }
 ],
 "metadata": {
  "kernelspec": {
   "display_name": "Python 3",
   "language": "python",
   "name": "python3"
  },
  "language_info": {
   "codemirror_mode": {
    "name": "ipython",
    "version": 3
   },
   "file_extension": ".py",
   "mimetype": "text/x-python",
   "name": "python",
   "nbconvert_exporter": "python",
   "pygments_lexer": "ipython3",
   "version": "3.8.8"
  }
 },
 "nbformat": 4,
 "nbformat_minor": 5
}
